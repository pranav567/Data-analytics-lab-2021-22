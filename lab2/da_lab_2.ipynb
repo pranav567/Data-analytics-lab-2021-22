{
  "cells": [
    {
      "cell_type": "markdown",
      "metadata": {},
      "source": [
        "Lab 2: Analyze statistical data using Python/R programming"
      ]
    },
    {
      "cell_type": "markdown",
      "metadata": {},
      "source": [
        "Objective:\n",
        "\n",
        "Perform statistical data analysis such as: Estimators of the main statistical measures (mean, variance, standard deviation, covariance correlation, standard error), Main distributions ( Normal distribution, chi-square distribution), Hypothesis testing, pair-wise association (Pearson correlation test, t-test, ANOVA), Non-parametric test (Spearman rank0)"
      ]
    },
    {
      "cell_type": "code",
      "execution_count": 2,
      "metadata": {
        "colab": {
          "base_uri": "https://localhost:8080/"
        },
        "id": "g9hAgG-uyi-h",
        "outputId": "02e6416e-a8af-4c31-daad-1bbe86f855c5"
      },
      "outputs": [
        {
          "name": "stdout",
          "output_type": "stream",
          "text": [
            "Mounted at /content/drive\n"
          ]
        }
      ],
      "source": [
        "from google.colab import drive\n",
        "drive.mount('/content/drive')"
      ]
    },
    {
      "cell_type": "code",
      "execution_count": 3,
      "metadata": {
        "id": "LFvVuOFdyi8P"
      },
      "outputs": [],
      "source": [
        "import pandas as pd\n",
        "import numpy as np"
      ]
    },
    {
      "cell_type": "code",
      "execution_count": 5,
      "metadata": {
        "colab": {
          "base_uri": "https://localhost:8080/",
          "height": 922
        },
        "id": "5HePT1Rqyi5P",
        "outputId": "79dabb7a-0ad0-4f6e-d11e-4bc69b57d6f7"
      },
      "outputs": [
        {
          "name": "stderr",
          "output_type": "stream",
          "text": [
            "/usr/local/lib/python3.7/dist-packages/IPython/core/interactiveshell.py:2882: DtypeWarning: Columns (1,2,3,4,6,12,17) have mixed types.Specify dtype option on import or set low_memory=False.\n",
            "  exec(code_obj, self.user_global_ns, self.user_ns)\n"
          ]
        },
        {
          "data": {
            "text/html": [
              "\n",
              "  <div id=\"df-16b96859-73cd-491a-ab89-f46a068d338f\">\n",
              "    <div class=\"colab-df-container\">\n",
              "      <div>\n",
              "<style scoped>\n",
              "    .dataframe tbody tr th:only-of-type {\n",
              "        vertical-align: middle;\n",
              "    }\n",
              "\n",
              "    .dataframe tbody tr th {\n",
              "        vertical-align: top;\n",
              "    }\n",
              "\n",
              "    .dataframe thead th {\n",
              "        text-align: right;\n",
              "    }\n",
              "</style>\n",
              "<table border=\"1\" class=\"dataframe\">\n",
              "  <thead>\n",
              "    <tr style=\"text-align: right;\">\n",
              "      <th></th>\n",
              "      <th>Unnamed: 0</th>\n",
              "      <th>Lic Regn</th>\n",
              "      <th>Lic Dist</th>\n",
              "      <th>Lic Cnty</th>\n",
              "      <th>Lic Type</th>\n",
              "      <th>Lic Xprdte</th>\n",
              "      <th>Lic Seqn</th>\n",
              "      <th>License Name</th>\n",
              "      <th>Business Name</th>\n",
              "      <th>Premise Street</th>\n",
              "      <th>Premise City</th>\n",
              "      <th>Premise State</th>\n",
              "      <th>Premise Zip Code</th>\n",
              "      <th>Mail Street</th>\n",
              "      <th>Mail City</th>\n",
              "      <th>Mail State</th>\n",
              "      <th>Mail Zip Code</th>\n",
              "      <th>Voice Phone</th>\n",
              "    </tr>\n",
              "  </thead>\n",
              "  <tbody>\n",
              "    <tr>\n",
              "      <th>0</th>\n",
              "      <td>0</td>\n",
              "      <td>--------</td>\n",
              "      <td>--------</td>\n",
              "      <td>--------</td>\n",
              "      <td>--------</td>\n",
              "      <td>----------</td>\n",
              "      <td>--------</td>\n",
              "      <td>----------------------------------------------...</td>\n",
              "      <td>----------------------------------------------...</td>\n",
              "      <td>----------------------------------------------...</td>\n",
              "      <td>---------------------------</td>\n",
              "      <td>-------------</td>\n",
              "      <td>----------------</td>\n",
              "      <td>----------------------------------------------...</td>\n",
              "      <td>---------------------------</td>\n",
              "      <td>----------</td>\n",
              "      <td>-------------</td>\n",
              "      <td>-----------</td>\n",
              "    </tr>\n",
              "    <tr>\n",
              "      <th>1</th>\n",
              "      <td>1</td>\n",
              "      <td>1</td>\n",
              "      <td>66</td>\n",
              "      <td>003</td>\n",
              "      <td>01</td>\n",
              "      <td>7L</td>\n",
              "      <td>00150</td>\n",
              "      <td>SALAZAR-MORET, CHARLES</td>\n",
              "      <td>AGUADA SPORT SHOP &amp; ARMORY</td>\n",
              "      <td>BO ASOMANTE CARR 115 KM 24-5</td>\n",
              "      <td>AGUADA</td>\n",
              "      <td>PR</td>\n",
              "      <td>00602</td>\n",
              "      <td>CALLE COLON #4 SUITE 3</td>\n",
              "      <td>AGUADA</td>\n",
              "      <td>PR</td>\n",
              "      <td>00602</td>\n",
              "      <td>7878686682</td>\n",
              "    </tr>\n",
              "    <tr>\n",
              "      <th>2</th>\n",
              "      <td>2</td>\n",
              "      <td>1</td>\n",
              "      <td>66</td>\n",
              "      <td>003</td>\n",
              "      <td>01</td>\n",
              "      <td>8F</td>\n",
              "      <td>00258</td>\n",
              "      <td>HERNANDEZ-MUNOZ, GILBERTO</td>\n",
              "      <td>ARMERIA Y ACCESORIOS EL NARANJAL</td>\n",
              "      <td>CARR 411 KM 1.0 BO GUAYABO SECTOR BAJURA</td>\n",
              "      <td>AGUADA</td>\n",
              "      <td>PR</td>\n",
              "      <td>00602</td>\n",
              "      <td>4 REPTO MINERVA</td>\n",
              "      <td>AGUADA</td>\n",
              "      <td>PR</td>\n",
              "      <td>00602</td>\n",
              "      <td>7878680125</td>\n",
              "    </tr>\n",
              "    <tr>\n",
              "      <th>3</th>\n",
              "      <td>3</td>\n",
              "      <td>1</td>\n",
              "      <td>66</td>\n",
              "      <td>003</td>\n",
              "      <td>08</td>\n",
              "      <td>8H</td>\n",
              "      <td>00285</td>\n",
              "      <td>SALAZAR MORET, CHARLES</td>\n",
              "      <td>AGUADA SPORT SHOP</td>\n",
              "      <td>BO ASOMANTE CARR 115 KM 24-5</td>\n",
              "      <td>AGUADA</td>\n",
              "      <td>PR</td>\n",
              "      <td>00602</td>\n",
              "      <td>CALLE COLON #4 SUITE 3</td>\n",
              "      <td>AGUADA</td>\n",
              "      <td>PR</td>\n",
              "      <td>00602</td>\n",
              "      <td>7878686682</td>\n",
              "    </tr>\n",
              "    <tr>\n",
              "      <th>4</th>\n",
              "      <td>4</td>\n",
              "      <td>1</td>\n",
              "      <td>66</td>\n",
              "      <td>005</td>\n",
              "      <td>01</td>\n",
              "      <td>9M</td>\n",
              "      <td>00224</td>\n",
              "      <td>CARDONA-VALENTIN, VIRGINIA</td>\n",
              "      <td>SHOOTING ACCESSORIES &amp; SERVICE</td>\n",
              "      <td>BO PALMAR CARR 111 KM 1.8</td>\n",
              "      <td>AGUADILLA</td>\n",
              "      <td>PR</td>\n",
              "      <td>00603</td>\n",
              "      <td>HC 2 BOX 20554</td>\n",
              "      <td>AGUADILLA</td>\n",
              "      <td>PR</td>\n",
              "      <td>00603</td>\n",
              "      <td>7876587174</td>\n",
              "    </tr>\n",
              "    <tr>\n",
              "      <th>...</th>\n",
              "      <td>...</td>\n",
              "      <td>...</td>\n",
              "      <td>...</td>\n",
              "      <td>...</td>\n",
              "      <td>...</td>\n",
              "      <td>...</td>\n",
              "      <td>...</td>\n",
              "      <td>...</td>\n",
              "      <td>...</td>\n",
              "      <td>...</td>\n",
              "      <td>...</td>\n",
              "      <td>...</td>\n",
              "      <td>...</td>\n",
              "      <td>...</td>\n",
              "      <td>...</td>\n",
              "      <td>...</td>\n",
              "      <td>...</td>\n",
              "      <td>...</td>\n",
              "    </tr>\n",
              "    <tr>\n",
              "      <th>80186</th>\n",
              "      <td>80186</td>\n",
              "      <td>9.0</td>\n",
              "      <td>92.0</td>\n",
              "      <td>280.0</td>\n",
              "      <td>1.0</td>\n",
              "      <td>9H</td>\n",
              "      <td>4379.0</td>\n",
              "      <td>ANGERMAN'S, INC</td>\n",
              "      <td>NaN</td>\n",
              "      <td>2 FRONT ST</td>\n",
              "      <td>WRANGELL</td>\n",
              "      <td>AK</td>\n",
              "      <td>999290000.0</td>\n",
              "      <td>PO BOX 928</td>\n",
              "      <td>WRANGELL</td>\n",
              "      <td>AK</td>\n",
              "      <td>999290000</td>\n",
              "      <td>9078743640.0</td>\n",
              "    </tr>\n",
              "    <tr>\n",
              "      <th>80187</th>\n",
              "      <td>80187</td>\n",
              "      <td>9.0</td>\n",
              "      <td>92.0</td>\n",
              "      <td>280.0</td>\n",
              "      <td>1.0</td>\n",
              "      <td>9B</td>\n",
              "      <td>771.0</td>\n",
              "      <td>OTTESEN'S INC</td>\n",
              "      <td>OTTESEN'S TRUE VALUE</td>\n",
              "      <td>104 FRONT ST</td>\n",
              "      <td>WRANGELL</td>\n",
              "      <td>AK</td>\n",
              "      <td>999290000.0</td>\n",
              "      <td>PO BOX 81</td>\n",
              "      <td>WRANGELL</td>\n",
              "      <td>AK</td>\n",
              "      <td>999290000</td>\n",
              "      <td>9078743377.0</td>\n",
              "    </tr>\n",
              "    <tr>\n",
              "      <th>80188</th>\n",
              "      <td>80188</td>\n",
              "      <td>9.0</td>\n",
              "      <td>92.0</td>\n",
              "      <td>280.0</td>\n",
              "      <td>1.0</td>\n",
              "      <td>0G</td>\n",
              "      <td>33533.0</td>\n",
              "      <td>PRUNELLA, STEVE</td>\n",
              "      <td>NaN</td>\n",
              "      <td>2 MILE ZIMOVIA HWY</td>\n",
              "      <td>WRANGELL</td>\n",
              "      <td>AK</td>\n",
              "      <td>999290000.0</td>\n",
              "      <td>PO BOX 2157</td>\n",
              "      <td>WRANGELL</td>\n",
              "      <td>AK</td>\n",
              "      <td>999290000</td>\n",
              "      <td>9078743093.0</td>\n",
              "    </tr>\n",
              "    <tr>\n",
              "      <th>80189</th>\n",
              "      <td>80189</td>\n",
              "      <td>9.0</td>\n",
              "      <td>92.0</td>\n",
              "      <td>280.0</td>\n",
              "      <td>1.0</td>\n",
              "      <td>9H</td>\n",
              "      <td>35237.0</td>\n",
              "      <td>MCCLOSKEY, ARLEN DOUGLAS</td>\n",
              "      <td>MCCLOSKEYS CUSTOM METAL WORK</td>\n",
              "      <td>110 SECOND AVE</td>\n",
              "      <td>WRANGELL</td>\n",
              "      <td>AK</td>\n",
              "      <td>999290000.0</td>\n",
              "      <td>PO BOX 493</td>\n",
              "      <td>WRANGELL</td>\n",
              "      <td>AK</td>\n",
              "      <td>999290000</td>\n",
              "      <td>9078742633.0</td>\n",
              "    </tr>\n",
              "    <tr>\n",
              "      <th>80190</th>\n",
              "      <td>80190</td>\n",
              "      <td>NaN</td>\n",
              "      <td>NaN</td>\n",
              "      <td>NaN</td>\n",
              "      <td>NaN</td>\n",
              "      <td>NaN</td>\n",
              "      <td>NaN</td>\n",
              "      <td></td>\n",
              "      <td>NaN</td>\n",
              "      <td>NaN</td>\n",
              "      <td>NaN</td>\n",
              "      <td>NaN</td>\n",
              "      <td>NaN</td>\n",
              "      <td>NaN</td>\n",
              "      <td>NaN</td>\n",
              "      <td>NaN</td>\n",
              "      <td>NaN</td>\n",
              "      <td>NaN</td>\n",
              "    </tr>\n",
              "  </tbody>\n",
              "</table>\n",
              "<p>80191 rows × 18 columns</p>\n",
              "</div>\n",
              "      <button class=\"colab-df-convert\" onclick=\"convertToInteractive('df-16b96859-73cd-491a-ab89-f46a068d338f')\"\n",
              "              title=\"Convert this dataframe to an interactive table.\"\n",
              "              style=\"display:none;\">\n",
              "        \n",
              "  <svg xmlns=\"http://www.w3.org/2000/svg\" height=\"24px\"viewBox=\"0 0 24 24\"\n",
              "       width=\"24px\">\n",
              "    <path d=\"M0 0h24v24H0V0z\" fill=\"none\"/>\n",
              "    <path d=\"M18.56 5.44l.94 2.06.94-2.06 2.06-.94-2.06-.94-.94-2.06-.94 2.06-2.06.94zm-11 1L8.5 8.5l.94-2.06 2.06-.94-2.06-.94L8.5 2.5l-.94 2.06-2.06.94zm10 10l.94 2.06.94-2.06 2.06-.94-2.06-.94-.94-2.06-.94 2.06-2.06.94z\"/><path d=\"M17.41 7.96l-1.37-1.37c-.4-.4-.92-.59-1.43-.59-.52 0-1.04.2-1.43.59L10.3 9.45l-7.72 7.72c-.78.78-.78 2.05 0 2.83L4 21.41c.39.39.9.59 1.41.59.51 0 1.02-.2 1.41-.59l7.78-7.78 2.81-2.81c.8-.78.8-2.07 0-2.86zM5.41 20L4 18.59l7.72-7.72 1.47 1.35L5.41 20z\"/>\n",
              "  </svg>\n",
              "      </button>\n",
              "      \n",
              "  <style>\n",
              "    .colab-df-container {\n",
              "      display:flex;\n",
              "      flex-wrap:wrap;\n",
              "      gap: 12px;\n",
              "    }\n",
              "\n",
              "    .colab-df-convert {\n",
              "      background-color: #E8F0FE;\n",
              "      border: none;\n",
              "      border-radius: 50%;\n",
              "      cursor: pointer;\n",
              "      display: none;\n",
              "      fill: #1967D2;\n",
              "      height: 32px;\n",
              "      padding: 0 0 0 0;\n",
              "      width: 32px;\n",
              "    }\n",
              "\n",
              "    .colab-df-convert:hover {\n",
              "      background-color: #E2EBFA;\n",
              "      box-shadow: 0px 1px 2px rgba(60, 64, 67, 0.3), 0px 1px 3px 1px rgba(60, 64, 67, 0.15);\n",
              "      fill: #174EA6;\n",
              "    }\n",
              "\n",
              "    [theme=dark] .colab-df-convert {\n",
              "      background-color: #3B4455;\n",
              "      fill: #D2E3FC;\n",
              "    }\n",
              "\n",
              "    [theme=dark] .colab-df-convert:hover {\n",
              "      background-color: #434B5C;\n",
              "      box-shadow: 0px 1px 3px 1px rgba(0, 0, 0, 0.15);\n",
              "      filter: drop-shadow(0px 1px 2px rgba(0, 0, 0, 0.3));\n",
              "      fill: #FFFFFF;\n",
              "    }\n",
              "  </style>\n",
              "\n",
              "      <script>\n",
              "        const buttonEl =\n",
              "          document.querySelector('#df-16b96859-73cd-491a-ab89-f46a068d338f button.colab-df-convert');\n",
              "        buttonEl.style.display =\n",
              "          google.colab.kernel.accessAllowed ? 'block' : 'none';\n",
              "\n",
              "        async function convertToInteractive(key) {\n",
              "          const element = document.querySelector('#df-16b96859-73cd-491a-ab89-f46a068d338f');\n",
              "          const dataTable =\n",
              "            await google.colab.kernel.invokeFunction('convertToInteractive',\n",
              "                                                     [key], {});\n",
              "          if (!dataTable) return;\n",
              "\n",
              "          const docLinkHtml = 'Like what you see? Visit the ' +\n",
              "            '<a target=\"_blank\" href=https://colab.research.google.com/notebooks/data_table.ipynb>data table notebook</a>'\n",
              "            + ' to learn more about interactive tables.';\n",
              "          element.innerHTML = '';\n",
              "          dataTable['output_type'] = 'display_data';\n",
              "          await google.colab.output.renderOutput(dataTable, element);\n",
              "          const docLink = document.createElement('div');\n",
              "          docLink.innerHTML = docLinkHtml;\n",
              "          element.appendChild(docLink);\n",
              "        }\n",
              "      </script>\n",
              "    </div>\n",
              "  </div>\n",
              "  "
            ],
            "text/plain": [
              "       Unnamed: 0  Lic Regn  Lic Dist  Lic Cnty  Lic Type  Lic Xprdte  \\\n",
              "0               0  --------  --------  --------  --------  ----------   \n",
              "1               1         1        66       003        01          7L   \n",
              "2               2         1        66       003        01          8F   \n",
              "3               3         1        66       003        08          8H   \n",
              "4               4         1        66       005        01          9M   \n",
              "...           ...       ...       ...       ...       ...         ...   \n",
              "80186       80186       9.0      92.0     280.0       1.0          9H   \n",
              "80187       80187       9.0      92.0     280.0       1.0          9B   \n",
              "80188       80188       9.0      92.0     280.0       1.0          0G   \n",
              "80189       80189       9.0      92.0     280.0       1.0          9H   \n",
              "80190       80190       NaN       NaN       NaN       NaN         NaN   \n",
              "\n",
              "       Lic Seqn                                       License Name  \\\n",
              "0      --------  ----------------------------------------------...   \n",
              "1         00150                             SALAZAR-MORET, CHARLES   \n",
              "2         00258                          HERNANDEZ-MUNOZ, GILBERTO   \n",
              "3         00285                             SALAZAR MORET, CHARLES   \n",
              "4         00224                         CARDONA-VALENTIN, VIRGINIA   \n",
              "...         ...                                                ...   \n",
              "80186    4379.0                                    ANGERMAN'S, INC   \n",
              "80187     771.0                                      OTTESEN'S INC   \n",
              "80188   33533.0                                    PRUNELLA, STEVE   \n",
              "80189   35237.0                           MCCLOSKEY, ARLEN DOUGLAS   \n",
              "80190       NaN                                                      \n",
              "\n",
              "                                           Business Name  \\\n",
              "0      ----------------------------------------------...   \n",
              "1                             AGUADA SPORT SHOP & ARMORY   \n",
              "2                       ARMERIA Y ACCESORIOS EL NARANJAL   \n",
              "3                                      AGUADA SPORT SHOP   \n",
              "4                         SHOOTING ACCESSORIES & SERVICE   \n",
              "...                                                  ...   \n",
              "80186                                                NaN   \n",
              "80187                               OTTESEN'S TRUE VALUE   \n",
              "80188                                                NaN   \n",
              "80189                       MCCLOSKEYS CUSTOM METAL WORK   \n",
              "80190                                                NaN   \n",
              "\n",
              "                                          Premise Street  \\\n",
              "0      ----------------------------------------------...   \n",
              "1                           BO ASOMANTE CARR 115 KM 24-5   \n",
              "2               CARR 411 KM 1.0 BO GUAYABO SECTOR BAJURA   \n",
              "3                           BO ASOMANTE CARR 115 KM 24-5   \n",
              "4                              BO PALMAR CARR 111 KM 1.8   \n",
              "...                                                  ...   \n",
              "80186                                         2 FRONT ST   \n",
              "80187                                       104 FRONT ST   \n",
              "80188                                 2 MILE ZIMOVIA HWY   \n",
              "80189                                     110 SECOND AVE   \n",
              "80190                                                NaN   \n",
              "\n",
              "                      Premise City  Premise State  Premise Zip Code  \\\n",
              "0      ---------------------------  -------------  ----------------   \n",
              "1                           AGUADA             PR             00602   \n",
              "2                           AGUADA             PR             00602   \n",
              "3                           AGUADA             PR             00602   \n",
              "4                        AGUADILLA             PR             00603   \n",
              "...                            ...            ...               ...   \n",
              "80186                     WRANGELL             AK       999290000.0   \n",
              "80187                     WRANGELL             AK       999290000.0   \n",
              "80188                     WRANGELL             AK       999290000.0   \n",
              "80189                     WRANGELL             AK       999290000.0   \n",
              "80190                          NaN            NaN               NaN   \n",
              "\n",
              "                                             Mail Street  \\\n",
              "0      ----------------------------------------------...   \n",
              "1                                 CALLE COLON #4 SUITE 3   \n",
              "2                                        4 REPTO MINERVA   \n",
              "3                                 CALLE COLON #4 SUITE 3   \n",
              "4                                         HC 2 BOX 20554   \n",
              "...                                                  ...   \n",
              "80186                                         PO BOX 928   \n",
              "80187                                          PO BOX 81   \n",
              "80188                                        PO BOX 2157   \n",
              "80189                                         PO BOX 493   \n",
              "80190                                                NaN   \n",
              "\n",
              "                         Mail City  Mail State  Mail Zip Code   Voice Phone  \n",
              "0      ---------------------------  ----------  -------------   -----------  \n",
              "1                           AGUADA          PR          00602    7878686682  \n",
              "2                           AGUADA          PR          00602    7878680125  \n",
              "3                           AGUADA          PR          00602    7878686682  \n",
              "4                        AGUADILLA          PR          00603    7876587174  \n",
              "...                            ...         ...            ...           ...  \n",
              "80186                     WRANGELL          AK      999290000  9078743640.0  \n",
              "80187                     WRANGELL          AK      999290000  9078743377.0  \n",
              "80188                     WRANGELL          AK      999290000  9078743093.0  \n",
              "80189                     WRANGELL          AK      999290000  9078742633.0  \n",
              "80190                          NaN         NaN            NaN           NaN  \n",
              "\n",
              "[80191 rows x 18 columns]"
            ]
          },
          "execution_count": 5,
          "metadata": {},
          "output_type": "execute_result"
        }
      ],
      "source": [
        "lic = pd.read_csv(\"/content/drive/MyDrive/dataset_da/federal-firearm-licensees.csv\")\n",
        "lic"
      ]
    },
    {
      "cell_type": "code",
      "execution_count": 6,
      "metadata": {
        "colab": {
          "base_uri": "https://localhost:8080/"
        },
        "id": "kTaarWK4yi2Q",
        "outputId": "00fc0683-8b6e-4a0b-8d67-1f93da7d45a7"
      },
      "outputs": [
        {
          "name": "stdout",
          "output_type": "stream",
          "text": [
            "<class 'pandas.core.frame.DataFrame'>\n",
            "RangeIndex: 80191 entries, 0 to 80190\n",
            "Data columns (total 18 columns):\n",
            " #   Column            Non-Null Count  Dtype \n",
            "---  ------            --------------  ----- \n",
            " 0   Unnamed: 0        80191 non-null  int64 \n",
            " 1   Lic Regn          80190 non-null  object\n",
            " 2   Lic Dist          80190 non-null  object\n",
            " 3   Lic Cnty          80190 non-null  object\n",
            " 4   Lic Type          80190 non-null  object\n",
            " 5   Lic Xprdte        80190 non-null  object\n",
            " 6   Lic Seqn          80190 non-null  object\n",
            " 7   License Name      80191 non-null  object\n",
            " 8   Business Name     52423 non-null  object\n",
            " 9   Premise Street    80190 non-null  object\n",
            " 10  Premise City      80190 non-null  object\n",
            " 11  Premise State     80190 non-null  object\n",
            " 12  Premise Zip Code  80190 non-null  object\n",
            " 13  Mail Street       80190 non-null  object\n",
            " 14  Mail City         80189 non-null  object\n",
            " 15  Mail State        80190 non-null  object\n",
            " 16  Mail Zip Code     80190 non-null  object\n",
            " 17  Voice Phone       80178 non-null  object\n",
            "dtypes: int64(1), object(17)\n",
            "memory usage: 11.0+ MB\n"
          ]
        }
      ],
      "source": [
        "lic.info()"
      ]
    },
    {
      "cell_type": "code",
      "execution_count": 7,
      "metadata": {
        "colab": {
          "base_uri": "https://localhost:8080/",
          "height": 125
        },
        "id": "9G61K9NKyizw",
        "outputId": "38da093d-c364-4a08-f4fd-80af7505da49"
      },
      "outputs": [
        {
          "data": {
            "text/html": [
              "\n",
              "  <div id=\"df-6de0d82c-6099-4330-b9aa-430e0bedad92\">\n",
              "    <div class=\"colab-df-container\">\n",
              "      <div>\n",
              "<style scoped>\n",
              "    .dataframe tbody tr th:only-of-type {\n",
              "        vertical-align: middle;\n",
              "    }\n",
              "\n",
              "    .dataframe tbody tr th {\n",
              "        vertical-align: top;\n",
              "    }\n",
              "\n",
              "    .dataframe thead th {\n",
              "        text-align: right;\n",
              "    }\n",
              "</style>\n",
              "<table border=\"1\" class=\"dataframe\">\n",
              "  <thead>\n",
              "    <tr style=\"text-align: right;\">\n",
              "      <th></th>\n",
              "      <th>count</th>\n",
              "      <th>mean</th>\n",
              "      <th>std</th>\n",
              "      <th>min</th>\n",
              "      <th>25%</th>\n",
              "      <th>50%</th>\n",
              "      <th>75%</th>\n",
              "      <th>max</th>\n",
              "    </tr>\n",
              "  </thead>\n",
              "  <tbody>\n",
              "    <tr>\n",
              "      <th>Unnamed: 0</th>\n",
              "      <td>80191.0</td>\n",
              "      <td>40095.0</td>\n",
              "      <td>23149.292055</td>\n",
              "      <td>0.0</td>\n",
              "      <td>20047.5</td>\n",
              "      <td>40095.0</td>\n",
              "      <td>60142.5</td>\n",
              "      <td>80190.0</td>\n",
              "    </tr>\n",
              "  </tbody>\n",
              "</table>\n",
              "</div>\n",
              "      <button class=\"colab-df-convert\" onclick=\"convertToInteractive('df-6de0d82c-6099-4330-b9aa-430e0bedad92')\"\n",
              "              title=\"Convert this dataframe to an interactive table.\"\n",
              "              style=\"display:none;\">\n",
              "        \n",
              "  <svg xmlns=\"http://www.w3.org/2000/svg\" height=\"24px\"viewBox=\"0 0 24 24\"\n",
              "       width=\"24px\">\n",
              "    <path d=\"M0 0h24v24H0V0z\" fill=\"none\"/>\n",
              "    <path d=\"M18.56 5.44l.94 2.06.94-2.06 2.06-.94-2.06-.94-.94-2.06-.94 2.06-2.06.94zm-11 1L8.5 8.5l.94-2.06 2.06-.94-2.06-.94L8.5 2.5l-.94 2.06-2.06.94zm10 10l.94 2.06.94-2.06 2.06-.94-2.06-.94-.94-2.06-.94 2.06-2.06.94z\"/><path d=\"M17.41 7.96l-1.37-1.37c-.4-.4-.92-.59-1.43-.59-.52 0-1.04.2-1.43.59L10.3 9.45l-7.72 7.72c-.78.78-.78 2.05 0 2.83L4 21.41c.39.39.9.59 1.41.59.51 0 1.02-.2 1.41-.59l7.78-7.78 2.81-2.81c.8-.78.8-2.07 0-2.86zM5.41 20L4 18.59l7.72-7.72 1.47 1.35L5.41 20z\"/>\n",
              "  </svg>\n",
              "      </button>\n",
              "      \n",
              "  <style>\n",
              "    .colab-df-container {\n",
              "      display:flex;\n",
              "      flex-wrap:wrap;\n",
              "      gap: 12px;\n",
              "    }\n",
              "\n",
              "    .colab-df-convert {\n",
              "      background-color: #E8F0FE;\n",
              "      border: none;\n",
              "      border-radius: 50%;\n",
              "      cursor: pointer;\n",
              "      display: none;\n",
              "      fill: #1967D2;\n",
              "      height: 32px;\n",
              "      padding: 0 0 0 0;\n",
              "      width: 32px;\n",
              "    }\n",
              "\n",
              "    .colab-df-convert:hover {\n",
              "      background-color: #E2EBFA;\n",
              "      box-shadow: 0px 1px 2px rgba(60, 64, 67, 0.3), 0px 1px 3px 1px rgba(60, 64, 67, 0.15);\n",
              "      fill: #174EA6;\n",
              "    }\n",
              "\n",
              "    [theme=dark] .colab-df-convert {\n",
              "      background-color: #3B4455;\n",
              "      fill: #D2E3FC;\n",
              "    }\n",
              "\n",
              "    [theme=dark] .colab-df-convert:hover {\n",
              "      background-color: #434B5C;\n",
              "      box-shadow: 0px 1px 3px 1px rgba(0, 0, 0, 0.15);\n",
              "      filter: drop-shadow(0px 1px 2px rgba(0, 0, 0, 0.3));\n",
              "      fill: #FFFFFF;\n",
              "    }\n",
              "  </style>\n",
              "\n",
              "      <script>\n",
              "        const buttonEl =\n",
              "          document.querySelector('#df-6de0d82c-6099-4330-b9aa-430e0bedad92 button.colab-df-convert');\n",
              "        buttonEl.style.display =\n",
              "          google.colab.kernel.accessAllowed ? 'block' : 'none';\n",
              "\n",
              "        async function convertToInteractive(key) {\n",
              "          const element = document.querySelector('#df-6de0d82c-6099-4330-b9aa-430e0bedad92');\n",
              "          const dataTable =\n",
              "            await google.colab.kernel.invokeFunction('convertToInteractive',\n",
              "                                                     [key], {});\n",
              "          if (!dataTable) return;\n",
              "\n",
              "          const docLinkHtml = 'Like what you see? Visit the ' +\n",
              "            '<a target=\"_blank\" href=https://colab.research.google.com/notebooks/data_table.ipynb>data table notebook</a>'\n",
              "            + ' to learn more about interactive tables.';\n",
              "          element.innerHTML = '';\n",
              "          dataTable['output_type'] = 'display_data';\n",
              "          await google.colab.output.renderOutput(dataTable, element);\n",
              "          const docLink = document.createElement('div');\n",
              "          docLink.innerHTML = docLinkHtml;\n",
              "          element.appendChild(docLink);\n",
              "        }\n",
              "      </script>\n",
              "    </div>\n",
              "  </div>\n",
              "  "
            ],
            "text/plain": [
              "              count     mean           std  min      25%      50%      75%  \\\n",
              "Unnamed: 0  80191.0  40095.0  23149.292055  0.0  20047.5  40095.0  60142.5   \n",
              "\n",
              "                max  \n",
              "Unnamed: 0  80190.0  "
            ]
          },
          "execution_count": 7,
          "metadata": {},
          "output_type": "execute_result"
        }
      ],
      "source": [
        "lic.describe().T"
      ]
    },
    {
      "cell_type": "code",
      "execution_count": 9,
      "metadata": {
        "id": "MVGPlYiQzW4m"
      },
      "outputs": [],
      "source": [
        "lic.drop('Unnamed: 0',axis=1,inplace=True)"
      ]
    },
    {
      "cell_type": "code",
      "execution_count": 10,
      "metadata": {
        "colab": {
          "base_uri": "https://localhost:8080/",
          "height": 299
        },
        "id": "Sll7_t0Uzg5T",
        "outputId": "6ec32c17-d3ea-4247-ad11-bf0aaee770a9"
      },
      "outputs": [
        {
          "data": {
            "text/plain": [
              "<matplotlib.axes._subplots.AxesSubplot at 0x7f6a9cab7a10>"
            ]
          },
          "execution_count": 10,
          "metadata": {},
          "output_type": "execute_result"
        },
        {
          "data": {
            "image/png": "[encoded data removed]",
            "text/plain": [
              "<Figure size 432x288 with 1 Axes>"
            ]
          },
          "metadata": {},
          "output_type": "display_data"
        }
      ],
      "source": [
        "import matplotlib.pyplot as plt\n",
        "plt.style.use('fivethirtyeight')\n",
        "lic['Premise Zip Code'].value_counts().plot.hist(bins=50)"
      ]
    },
    {
      "cell_type": "code",
      "execution_count": 13,
      "metadata": {
        "colab": {
          "base_uri": "https://localhost:8080/"
        },
        "id": "asmlwgFgznjb",
        "outputId": "63611dec-761a-4451-f2c9-487a1b58b260"
      },
      "outputs": [
        {
          "data": {
            "text/plain": [
              "2.756617394293572"
            ]
          },
          "execution_count": 13,
          "metadata": {},
          "output_type": "execute_result"
        }
      ],
      "source": [
        "lic['Premise Zip Code'].value_counts().mean()"
      ]
    },
    {
      "cell_type": "markdown",
      "metadata": {
        "id": "D4h_vKmF0MN2"
      },
      "source": [
        "Here are our hypotheses:\n",
        "\n",
        "H0:n¯=2.75\n",
        " \n",
        "Ha:n¯≠2.75\n",
        " \n",
        "Let's set our p-level to 0.05. That is, let's say that we're willing to accept a 5% risk that when we reject the null hypothesis we are wrong.\n",
        "\n",
        "Now we will implement our t-test."
      ]
    },
    {
      "cell_type": "code",
      "execution_count": 50,
      "metadata": {
        "colab": {
          "base_uri": "https://localhost:8080/"
        },
        "id": "BtCvTiD51SiP",
        "outputId": "f1d5b79f-29f5-49d6-dc06-386a9d5318a5"
      },
      "outputs": [
        {
          "data": {
            "text/plain": [
              "2.756617394293572"
            ]
          },
          "execution_count": 50,
          "metadata": {},
          "output_type": "execute_result"
        }
      ],
      "source": [
        "lic['Premise Zip Code'].value_counts().mean()"
      ]
    },
    {
      "cell_type": "code",
      "execution_count": 51,
      "metadata": {
        "id": "_zOhAYNsz7rY"
      },
      "outputs": [],
      "source": [
        "X = lic['Premise Zip Code'].value_counts()"
      ]
    },
    {
      "cell_type": "code",
      "execution_count": 52,
      "metadata": {
        "id": "DVK2zHDB0QRN"
      },
      "outputs": [],
      "source": [
        "import numpy as np\n",
        "import scipy.stats as stats\n",
        "\n",
        "def t_value(X, h_0):\n",
        "    se = np.sqrt(np.var(X) / len(X))\n",
        "    return (np.mean(X) - h_0) / se\n",
        "\n",
        "def p_value(t):\n",
        "    # Two-sided p-value, so we multiply by 2.\n",
        "    return stats.norm.sf(abs(t))*2\n",
        "\n",
        "t = t_value(X, 2.75)\n",
        "p = p_value(t)"
      ]
    },
    {
      "cell_type": "code",
      "execution_count": 53,
      "metadata": {
        "colab": {
          "base_uri": "https://localhost:8080/"
        },
        "id": "cm80Wh5-0SGu",
        "outputId": "79468a2f-4ac5-4e6f-f400-27378636581f"
      },
      "outputs": [
        {
          "data": {
            "text/plain": [
              "(0.3570237643291454, 0.7210740152175236)"
            ]
          },
          "execution_count": 53,
          "metadata": {},
          "output_type": "execute_result"
        }
      ],
      "source": [
        "t,p"
      ]
    },
    {
      "cell_type": "code",
      "execution_count": 54,
      "metadata": {
        "colab": {
          "base_uri": "https://localhost:8080/"
        },
        "id": "_DT7IiL80hU_",
        "outputId": "f656923a-4b15-4545-eca7-0c5ca4d6346c"
      },
      "outputs": [
        {
          "data": {
            "text/plain": [
              "Ttest_1sampResult(statistic=0.35701762773872997, pvalue=0.7210811989731936)"
            ]
          },
          "execution_count": 54,
          "metadata": {},
          "output_type": "execute_result"
        }
      ],
      "source": [
        "import scipy.stats as stats\n",
        "\n",
        "stats.ttest_1samp(a=X, popmean=2.75)"
      ]
    },
    {
      "cell_type": "markdown",
      "metadata": {
        "id": "iWSJzmel0ckD"
      },
      "source": [
        "The  t  score tells us that our result is 0.36 standard deviations away from the average mean estimator result we can expect. 0.36 standard deviations is not a lot at all though! Our  p  value tells us that almost 72% of possible mean estimate values are further away from our expectation than the value that we got.\n",
        "\n",
        "In other words, a mean value of 2.75 is in the 72nd percentile of closeness.\n",
        "\n",
        "Since  0.72>0.05 , we fail to reject the null hypothesis  H0 . We conclude that there is strong evidence that  n¯=2.75 —that is, that the mean number of gun shops per US Zip Code is almost 3!"
      ]
    },
    {
      "cell_type": "markdown",
      "metadata": {
        "id": "yAS904Us0rFw"
      },
      "source": [
        "Example in document"
      ]
    },
    {
      "cell_type": "code",
      "execution_count": 57,
      "metadata": {
        "id": "nGKhMDvW0SgR"
      },
      "outputs": [],
      "source": [
        "def t_value(var,n,m, h_0):\n",
        "    se = np.sqrt(var / n)\n",
        "    return (m - h_0) / se\n",
        "\n",
        "def p_value(t):\n",
        "    # Two-sided p-value, so we multiply by 2.\n",
        "    return stats.norm.sf(abs(t))*2"
      ]
    },
    {
      "cell_type": "markdown",
      "metadata": {
        "id": "UMhUhdYH2ARI"
      },
      "source": [
        "Here are our hypotheses:\n",
        "\n",
        "H0:n¯=30\n",
        " \n",
        "Ha:n¯< 30"
      ]
    },
    {
      "cell_type": "code",
      "execution_count": 58,
      "metadata": {
        "id": "cW_w1o1b0y9Y"
      },
      "outputs": [],
      "source": [
        "n=10\n",
        "m=27\n",
        "v=20\n",
        "alp = 0.05\n",
        "h = 30"
      ]
    },
    {
      "cell_type": "code",
      "execution_count": 59,
      "metadata": {
        "id": "ILdcOOgT2IPQ"
      },
      "outputs": [],
      "source": [
        "t = t_value(v,n,m,h)\n",
        "p = p_value(t)"
      ]
    },
    {
      "cell_type": "code",
      "execution_count": 60,
      "metadata": {
        "colab": {
          "base_uri": "https://localhost:8080/"
        },
        "id": "3G2zfI1P2Tau",
        "outputId": "00388b6f-564f-477d-d605-ae5b8d723c97"
      },
      "outputs": [
        {
          "data": {
            "text/plain": [
              "(-2.1213203435596424, 0.03389485352468927)"
            ]
          },
          "execution_count": 60,
          "metadata": {},
          "output_type": "execute_result"
        }
      ],
      "source": [
        "t,p"
      ]
    },
    {
      "cell_type": "markdown",
      "metadata": {
        "id": "Vy03cyv72bf8"
      },
      "source": [
        "Our p value tells us that almost 3% of possible mean estimate values are further away from our expectation than the value that we got.\n",
        "\n",
        "Since 0.034 < 0.05 , we reject the null hypothesis H0 . We conclude that there is evidence that u¯< 30."
      ]
    },
    {
      "cell_type": "code",
      "execution_count": null,
      "metadata": {
        "id": "-Z-fArkG2UNL"
      },
      "outputs": [],
      "source": []
    },
    {
      "cell_type": "markdown",
      "metadata": {
        "id": "A3GL7TWw3DeV"
      },
      "source": [
        "## Inference:\n",
        "\n",
        "Descriptive statistics are brief descriptive coefficients that summarize a given data set, which can be either a representation of the entire population or a sample of a population. Descriptive statistics are broken down into measures of central tendency and measures of variability (spread). Measures of central tendency include the mean, median, and mode, while measures of variability include standard deviation, variance, minimum and maximum variables, kurtosis, and skewness. The most recognized types of descriptive statistics are measures of center: the mean, median, and mode, which are used at almost all levels of math and statistics.\n",
        "\n",
        "Hypothesis testing is an act in statistics whereby an analyst tests an assumption regarding a population parameter. The methodology employed by the analyst depends on the nature of the data used and the reason for the analysis. Hypothesis testing is used to assess the plausibility of a hypothesis by using sample data. Such data may come from a larger population, or from a data-generating process.\n",
        "\n",
        "In the above two examples, we defined the null hypothesis and the alternate hypothesis and based on the resulting p-value from the test we decide whether to accept the null hypothesis or reject it with marginal or significant evidence and for this a level of significance is set, which was 0.05 in the above two examples. Thus if in any case the p-value is less than this alpha value then the null hypothesis can be rejected otherwise there is no seignificant evidence to deny the null hypothesis.\n",
        "\n"
      ]
    },
    {
      "cell_type": "code",
      "execution_count": null,
      "metadata": {
        "id": "O-2uZTLM4IHt"
      },
      "outputs": [],
      "source": []
    }
  ],
  "metadata": {
    "colab": {
      "collapsed_sections": [],
      "name": "da_lab_2.ipynb",
      "provenance": []
    },
    "kernelspec": {
      "display_name": "Python 3",
      "name": "python3"
    },
    "language_info": {
      "name": "python"
    }
  },
  "nbformat": 4,
  "nbformat_minor": 0
}
